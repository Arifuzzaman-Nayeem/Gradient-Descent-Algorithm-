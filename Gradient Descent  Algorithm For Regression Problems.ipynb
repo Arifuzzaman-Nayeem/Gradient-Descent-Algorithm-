{
 "cells": [
  {
   "cell_type": "code",
   "execution_count": 121,
   "id": "6a9a6224",
   "metadata": {},
   "outputs": [],
   "source": [
    "import pandas as pd"
   ]
  },
  {
   "cell_type": "code",
   "execution_count": 132,
   "id": "16906ff4",
   "metadata": {},
   "outputs": [
    {
     "data": {
      "text/html": [
       "<div>\n",
       "<style scoped>\n",
       "    .dataframe tbody tr th:only-of-type {\n",
       "        vertical-align: middle;\n",
       "    }\n",
       "\n",
       "    .dataframe tbody tr th {\n",
       "        vertical-align: top;\n",
       "    }\n",
       "\n",
       "    .dataframe thead th {\n",
       "        text-align: right;\n",
       "    }\n",
       "</style>\n",
       "<table border=\"1\" class=\"dataframe\">\n",
       "  <thead>\n",
       "    <tr style=\"text-align: right;\">\n",
       "      <th></th>\n",
       "      <th>x1</th>\n",
       "      <th>x2</th>\n",
       "      <th>x3</th>\n",
       "      <th>x4</th>\n",
       "      <th>y</th>\n",
       "    </tr>\n",
       "  </thead>\n",
       "  <tbody>\n",
       "    <tr>\n",
       "      <th>0</th>\n",
       "      <td>0.282921</td>\n",
       "      <td>0.865706</td>\n",
       "      <td>0.710937</td>\n",
       "      <td>0.266335</td>\n",
       "      <td>0.345657</td>\n",
       "    </tr>\n",
       "    <tr>\n",
       "      <th>1</th>\n",
       "      <td>0.981753</td>\n",
       "      <td>0.899750</td>\n",
       "      <td>0.311383</td>\n",
       "      <td>0.478983</td>\n",
       "      <td>0.311212</td>\n",
       "    </tr>\n",
       "    <tr>\n",
       "      <th>2</th>\n",
       "      <td>0.804480</td>\n",
       "      <td>0.419108</td>\n",
       "      <td>0.090164</td>\n",
       "      <td>0.293918</td>\n",
       "      <td>-0.160669</td>\n",
       "    </tr>\n",
       "    <tr>\n",
       "      <th>3</th>\n",
       "      <td>0.210645</td>\n",
       "      <td>0.497747</td>\n",
       "      <td>0.952365</td>\n",
       "      <td>0.781148</td>\n",
       "      <td>0.516331</td>\n",
       "    </tr>\n",
       "    <tr>\n",
       "      <th>4</th>\n",
       "      <td>0.144592</td>\n",
       "      <td>0.067859</td>\n",
       "      <td>0.817551</td>\n",
       "      <td>0.281274</td>\n",
       "      <td>0.044167</td>\n",
       "    </tr>\n",
       "  </tbody>\n",
       "</table>\n",
       "</div>"
      ],
      "text/plain": [
       "         x1        x2        x3        x4         y\n",
       "0  0.282921  0.865706  0.710937  0.266335  0.345657\n",
       "1  0.981753  0.899750  0.311383  0.478983  0.311212\n",
       "2  0.804480  0.419108  0.090164  0.293918 -0.160669\n",
       "3  0.210645  0.497747  0.952365  0.781148  0.516331\n",
       "4  0.144592  0.067859  0.817551  0.281274  0.044167"
      ]
     },
     "execution_count": 132,
     "metadata": {},
     "output_type": "execute_result"
    }
   ],
   "source": [
    "df = pd.read_excel('data.xlsx')\n",
    "df.head()"
   ]
  },
  {
   "cell_type": "code",
   "execution_count": 123,
   "id": "051ea3e2",
   "metadata": {},
   "outputs": [],
   "source": [
    "X = df[['x1','x2','x3','x4']]\n",
    "Y = df['y']"
   ]
  },
  {
   "cell_type": "code",
   "execution_count": 136,
   "id": "e9d3eae1",
   "metadata": {
    "scrolled": false
   },
   "outputs": [
    {
     "name": "stdout",
     "output_type": "stream",
     "text": [
      "i: 0 , weights : [1. 1. 1. 1.] , b 0.00 , loss : 3.3880843426 \n",
      "i: 10000 , weights : [0.39310308 0.4610142  0.81793936 0.34692938] , b -0.86 , loss : 0.0043986025 \n",
      "i: 20000 , weights : [0.40241389 0.45768824 0.82713586 0.34601977] , b -0.87 , loss : 0.0043959795 \n",
      "i: 30000 , weights : [0.40486608 0.45680793 0.82956262 0.34581962] , b -0.87 , loss : 0.0043957967 \n",
      "i: 40000 , weights : [0.40551366 0.45657545 0.83020349 0.3457668 ] , b -0.87 , loss : 0.0043957839 \n",
      "i: 50000 , weights : [0.40568467 0.45651405 0.83037273 0.34575285] , b -0.87 , loss : 0.0043957830 \n",
      "i: 60000 , weights : [0.40572983 0.45649784 0.83041743 0.34574916] , b -0.87 , loss : 0.0043957830 \n",
      "/n/n----------Result-------------/n\n",
      "i: 60782 , weights : [0.40573144 0.45649726 0.83041901 0.34574903] , b -0.87 , loss : 0.0043957830\n",
      "Done\n"
     ]
    }
   ],
   "source": [
    "weights = np.ones(len(X.columns))\n",
    "b = i = 0\n",
    "lr = 0.01\n",
    "n,c_ = X.shape\n",
    "a = 1\n",
    "while True: \n",
    "    y_pred = np.dot(X,weights) + b\n",
    "    loss = np.sum((y_pred-Y)**2)/n\n",
    "    if abs(loss-a)< 1E-15: \n",
    "        print (\"/n/n----------Result-------------/n\")\n",
    "        print (\"i: {} , weights : {} , b {:.2f} , loss : {:.10f}\".format(i, weights, b,loss))\n",
    "        break\n",
    "    if i%10000==0:\n",
    "        print (\"i: {} , weights : {} , b {:.2f} , loss : {:.10f} \".format(i, weights, b,loss))\n",
    "        \n",
    "    weight_change = -(2/n)*np.dot((Y-y_pred),X)*lr  #mse cost fucntion \n",
    "    bch =  -(2/n)* np.sum(Y-y_pred)\n",
    "    weights = weights -weight_change\n",
    "    b = b -lr *bch\n",
    "    a = loss\n",
    "    i = i+1\n",
    "print (\"Done\")"
   ]
  },
  {
   "cell_type": "code",
   "execution_count": null,
   "id": "2a7ed9ea",
   "metadata": {},
   "outputs": [],
   "source": []
  }
 ],
 "metadata": {
  "kernelspec": {
   "display_name": "Python 3 (ipykernel)",
   "language": "python",
   "name": "python3"
  },
  "language_info": {
   "codemirror_mode": {
    "name": "ipython",
    "version": 3
   },
   "file_extension": ".py",
   "mimetype": "text/x-python",
   "name": "python",
   "nbconvert_exporter": "python",
   "pygments_lexer": "ipython3",
   "version": "3.9.7"
  }
 },
 "nbformat": 4,
 "nbformat_minor": 5
}
